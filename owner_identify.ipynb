{
 "cells": [
  {
   "cell_type": "markdown",
   "metadata": {},
   "source": [
    "## Model training"
   ]
  },
  {
   "cell_type": "code",
   "execution_count": null,
   "metadata": {},
   "outputs": [],
   "source": [
    "import face_recognition\n",
    "import pickle\n",
    "import os\n",
    "\n",
    "def encode_faces(image_paths):\n",
    "    known_encodings = []\n",
    "    known_names = []\n",
    "\n",
    "    for image_path in image_paths:\n",
    "        image = face_recognition.load_image_file(image_path)\n",
    "        encodings = face_recognition.face_encodings(image)\n",
    "        for encoding in encodings:\n",
    "            known_encodings.append(encoding)\n",
    "            name = os.path.basename(image_path).split('.')[0]\n",
    "            known_names.append(name)\n",
    "\n",
    "    return known_encodings, known_names\n",
    "\n",
    "def save_encodings(encodings, names, filename):\n",
    "    with open(filename, 'wb') as f:\n",
    "        pickle.dump({'encodings': encodings, 'names': names}, f)\n",
    "\n",
    "if __name__ == \"__main__\":\n",
    "    # Provide paths to directories of images for shop owners\n",
    "    owner_dirs = [\n",
    "        '/path/to/owner1/',\n",
    "        '/path/to/owner2/',\n",
    "        '/path/to/owner3/'\n",
    "    ]\n",
    "\n",
    "    image_paths = []\n",
    "    for owner_dir in owner_dirs:\n",
    "        for filename in os.listdir(owner_dir):\n",
    "            if filename.endswith(('.jpg', '.jpeg', '.png')):\n",
    "                image_paths.append(os.path.join(owner_dir, filename))\n",
    "\n",
    "    encodings, names = encode_faces(image_paths)\n",
    "    save_encodings(encodings, names, 'shop_owners_encodings.pkl')\n",
    "    print(\"Shop owners' face encodings saved.\")\n"
   ]
  },
  {
   "cell_type": "markdown",
   "metadata": {},
   "source": [
    "## real time identification code"
   ]
  },
  {
   "cell_type": "code",
   "execution_count": null,
   "metadata": {},
   "outputs": [],
   "source": [
    "import face_recognition\n",
    "import pickle\n",
    "import cv2\n",
    "\n",
    "def load_encodings(filename):\n",
    "    with open(filename, 'rb') as f:\n",
    "        data = pickle.load(f)\n",
    "        return data['encodings'], data['names']\n",
    "\n",
    "def identify_face(frame, known_encodings, known_names):\n",
    "    rgb_frame = frame[:, :, ::-1]  # Convert BGR to RGB\n",
    "    face_locations = face_recognition.face_locations(rgb_frame)\n",
    "    face_encodings = face_recognition.face_encodings(rgb_frame, face_locations)\n",
    "\n",
    "    for (top, right, bottom, left), encoding in zip(face_locations, face_encodings):\n",
    "        matches = face_recognition.compare_faces(known_encodings, encoding)\n",
    "        name = \"Unknown\"\n",
    "        if True in matches:\n",
    "            first_match_index = matches.index(True)\n",
    "            name = known_names[first_match_index]\n",
    "\n",
    "        cv2.rectangle(frame, (left, top), (right, bottom), (0, 0, 255), 2)\n",
    "        cv2.putText(frame, name, (left, top - 10), cv2.FONT_HERSHEY_SIMPLEX, 0.9, (0, 0, 255), 2)\n",
    "\n",
    "    return frame\n",
    "\n",
    "if __name__ == \"__main__\":\n",
    "    known_encodings, known_names = load_encodings('shop_owners_encodings.pkl')\n",
    "    video_capture = cv2.VideoCapture(0)\n",
    "\n",
    "    while True:\n",
    "        ret, frame = video_capture.read()\n",
    "        if not ret:\n",
    "            break\n",
    "\n",
    "        frame = identify_face(frame, known_encodings, known_names)\n",
    "        cv2.imshow('Video', frame)\n",
    "\n",
    "        if cv2.waitKey(1) & 0xFF == ord('q'):\n",
    "            break\n",
    "\n",
    "    video_capture.release()\n",
    "    cv2.destroyAllWindows()\n"
   ]
  }
 ],
 "metadata": {
  "kernelspec": {
   "display_name": "rasa_train",
   "language": "python",
   "name": "python3"
  },
  "language_info": {
   "name": "python",
   "version": "3.10.0"
  }
 },
 "nbformat": 4,
 "nbformat_minor": 2
}
