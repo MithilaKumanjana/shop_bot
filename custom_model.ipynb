{
 "cells": [
  {
   "cell_type": "code",
   "execution_count": 18,
   "metadata": {},
   "outputs": [
    {
     "name": "stdout",
     "output_type": "stream",
     "text": [
      "File uploaded successfully with ID: file-ffny2aNzhsHMpeUi08TABpgM\n",
      "An error occurred: module 'openai' has no attribute 'fine_tunes'\n"
     ]
    }
   ],
   "source": [
    "import openai\n",
    "import os\n",
    "\n",
    "# Ensure the OpenAI API key is set correctly in your environment\n",
    "os.environ['OPENAI_API_KEY'] = 'sk-proj-mB28p8NG53khP3yHytppT3BlbkFJ4r5QijPJBiYF550teUEH'  # Set your OpenAI API key here\n",
    "\n",
    "# Define file path and model parameters\n",
    "jsonl_file_path = 'data.jsonl'\n",
    "base_model = 'gpt-3.5-turbo'  # Base model to be fine-tuned\n",
    "n_epochs = 4  # Number of training epochs\n",
    "\n",
    "def upload_file(file_path):\n",
    "    \"\"\"Upload the training data file to OpenAI.\"\"\"\n",
    "    with open(file_path, 'rb') as file:  # Open the file in binary mode\n",
    "        response = openai.files.create(file=file,\n",
    "        purpose='fine-tune')\n",
    "    return response\n",
    "\n",
    "def create_fine_tune(file_id):\n",
    "    \"\"\"Create a fine-tuning job for the custom model.\"\"\"\n",
    "    response = openai.fine_tunes.create(training_file=file_id,\n",
    "    model=base_model,\n",
    "    n_epochs=n_epochs)\n",
    "    return response\n",
    "\n",
    "def main():\n",
    "    try:\n",
    "        # Upload the data file\n",
    "        file_response = upload_file(jsonl_file_path)\n",
    "        file_id = file_response.id  # Accessing 'id' directly from FileObject\n",
    "        print(f\"File uploaded successfully with ID: {file_id}\")\n",
    "\n",
    "        # Create and fine-tune the model\n",
    "        fine_tune_response = create_fine_tune(file_id)\n",
    "        fine_tune_id = fine_tune_response.id  # Accessing 'id' directly from FineTuneObject\n",
    "        print(f\"Fine-tuning started with ID: {fine_tune_id}\")\n",
    "\n",
    "    except Exception as e:\n",
    "        print(f\"An error occurred: {e}\")\n",
    "\n",
    "if __name__ == '__main__':\n",
    "    main()\n"
   ]
  },
  {
   "cell_type": "code",
   "execution_count": 24,
   "metadata": {},
   "outputs": [
    {
     "name": "stdout",
     "output_type": "stream",
     "text": [
      "File uploaded successfully with ID: file-RJDI91v9e30AZMr3uoEdgE4S\n",
      "An error occurred: module 'openai' has no attribute 'FineTunes'\n"
     ]
    }
   ],
   "source": [
    "import openai\n",
    "import os\n",
    "\n",
    "# Ensure the OpenAI API key is set correctly in your environment\n",
    "os.environ['OPENAI_API_KEY'] = 'sk-proj-mB28p8NG53khP3yHytppT3BlbkFJ4r5QijPJBiYF550teUEH'  # Set your OpenAI API key here\n",
    "\n",
    "# Define file path and model parameters\n",
    "jsonl_file_path = 'data.jsonl'\n",
    "base_model = 'gpt-3.5-turbo'  # Base model to be fine-tuned\n",
    "n_epochs = 4  # Number of training epochs\n",
    "\n",
    "def upload_file(file_path):\n",
    "    \"\"\"Upload the training data file to OpenAI.\"\"\"\n",
    "    with open(file_path, 'rb') as file:  # Open the file in binary mode\n",
    "        response = openai.files.create(file=file,\n",
    "        purpose='fine-tune')\n",
    "    return response\n",
    "\n",
    "def create_fine_tune(file_id):\n",
    "    \"\"\"Create a fine-tuning job for the custom model.\"\"\"\n",
    "    response = openai.FineTunes.create(\n",
    "        training_file=file_id,\n",
    "        model=base_model,\n",
    "        n_epochs=n_epochs\n",
    "    )\n",
    "    return response\n",
    "\n",
    "def main():\n",
    "    try:\n",
    "        # Upload the data file\n",
    "        file_response = upload_file(jsonl_file_path)\n",
    "        file_id = file_response.id  # Accessing 'id' directly from FileObject\n",
    "        print(f\"File uploaded successfully with ID: {file_id}\")\n",
    "\n",
    "        # Create and fine-tune the model\n",
    "        fine_tune_response = create_fine_tune(file_id)\n",
    "        fine_tune_id = fine_tune_response.id  # Accessing 'id' directly from FineTuneObject\n",
    "        print(f\"Fine-tuning started with ID: {fine_tune_id}\")\n",
    "\n",
    "    except Exception as e:\n",
    "        print(f\"An error occurred: {e}\")\n",
    "\n",
    "if __name__ == '__main__':\n",
    "    main()\n"
   ]
  }
 ],
 "metadata": {
  "kernelspec": {
   "display_name": "face_rec",
   "language": "python",
   "name": "python3"
  },
  "language_info": {
   "codemirror_mode": {
    "name": "ipython",
    "version": 3
   },
   "file_extension": ".py",
   "mimetype": "text/x-python",
   "name": "python",
   "nbconvert_exporter": "python",
   "pygments_lexer": "ipython3",
   "version": "3.12.4"
  }
 },
 "nbformat": 4,
 "nbformat_minor": 2
}
